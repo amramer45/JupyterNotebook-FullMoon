{
 "cells": [
  {
   "cell_type": "markdown",
   "metadata": {},
   "source": [
    "## Pre Work\n",
    "\n",
    "Imported and sorted data. \n",
    "\n",
    "Files were too large to origianlly load to git hub regularly so did this as a step to push up csv files.\n",
    "\n",
    "Later found out about LFS (Large File Stroage)"
   ]
  },
  {
   "cell_type": "code",
   "execution_count": null,
   "metadata": {},
   "outputs": [],
   "source": [
    "#import kaggle       \n",
    "#kaggle.api.authenticate()\n",
    "#kaggle.api.dataset_download_files('API command here', path='Resources', unzip=True)\n",
    "\n",
    "#API commands used from Kaggle:\n",
    "#Boston: AnalyzeBoston/crimes-in-boston\n",
    "#Baltimore: sohier/crime-in-baltimore\n",
    "#Philadelphia: mchirico/philadelphiacrimedata\n",
    "#Solar & Lunar: nasa/solar-eclipses\n",
    "#Full Moon: lsind18/full-moon-calendar-1900-2050"
   ]
  },
  {
   "cell_type": "code",
   "execution_count": null,
   "metadata": {},
   "outputs": [],
   "source": [
    "# #Dependencies\n",
    "# import pandas as pd\n",
    "# import numpy as np\n",
    "# import os\n",
    "# import time\n",
    "\n",
    "# #File load\n",
    "# boston = \"Resources/boston_crime_data.csv\"\n",
    "# philadelphia = \"Resources/philadelphia_crime_data.csv\"\n",
    "# baltimore = \"Resources/balitmore_crime_data.csv\"\n",
    "\n",
    "# #Read file and store into pandas data frame\n",
    "# boston_data_df = pd.read_csv(boston, sep = ',')\n",
    "# philadelphia_data_df = pd.read_csv(philadelphia, sep = ',')\n",
    "# baltimore_data_df = pd.read_csv(baltimore, sep = ',')"
   ]
  },
  {
   "cell_type": "code",
   "execution_count": null,
   "metadata": {},
   "outputs": [],
   "source": [
    "#boston_data_df.head()\n",
    "#baltimore_data_df.head()\n",
    "#philadelphia_data_df.head()"
   ]
  },
  {
   "cell_type": "code",
   "execution_count": null,
   "metadata": {},
   "outputs": [],
   "source": [
    "# #Sort through data to make smaller, finding only requested year\n",
    "# #Philadephia\n",
    "# philadelphia_data_df['Dispatch_Date']= pd.to_datetime(philadelphia_data_df['Dispatch_Date'])\n",
    "# philadelphia_data_df2 = philadelphia_data_df[philadelphia_data_df['Dispatch_Date'].dt.year == 2016]\n",
    "# #Also reduce column size to fit into git repository \n",
    "# philadelphia_data_df3 = philadelphia_data_df2[['Dispatch_Date', 'Text_General_Code']].copy()\n",
    "# philadelphia_data_df3['Text_General_Code'].value_counts()\n",
    "\n",
    "# #Original files too large to upload to GitHub. \n",
    "# #Isolated year 2016, selected desired columns then saved and uploaded shortened version\n",
    "# philadelphia_data_df3.to_csv('Resources/philadelphia_data_df3.csv')"
   ]
  },
  {
   "cell_type": "code",
   "execution_count": null,
   "metadata": {},
   "outputs": [],
   "source": [
    "# #Sort through data to make smaller, finding only requested year\n",
    "# #Boston\n",
    "# boston_data_df['OCCURRED_ON_DATE']= pd.to_datetime(boston_data_df['OCCURRED_ON_DATE'])\n",
    "# boston_data_df2 = boston_data_df[boston_data_df['OCCURRED_ON_DATE'].dt.year == 2016]\n",
    "\n",
    "# #Original files too large to upload to GitHub. \n",
    "# #Isolated year 2016 then saved and uploaded shortened version\n",
    "# boston_data_df2.to_csv('Resources/boston_data_df3.csv')"
   ]
  },
  {
   "cell_type": "code",
   "execution_count": null,
   "metadata": {},
   "outputs": [],
   "source": [
    "# #Sort through data to make smaller, finding only requested year\n",
    "# #Baltimore\n",
    "# baltimore_data_df['CrimeDate']= pd.to_datetime(baltimore_data_df['CrimeDate'])\n",
    "# baltimore_data_df2 = baltimore_data_df[baltimore_data_df['CrimeDate'].dt.year == 2016]\n",
    "\n",
    "# #Original files too large to upload to GitHub. \n",
    "# #Isolated year 2016 then saved and uploaded shortened version\n",
    "# baltimore_data_df2.to_csv('Resources/baltimore_data_df3.csv')"
   ]
  },
  {
   "cell_type": "code",
   "execution_count": null,
   "metadata": {},
   "outputs": [],
   "source": [
    "#Also had extra data if we had enough time to dig deeper\n",
    "\n",
    "#Solar eclipse\n",
    "#sort desired columns\n",
    "solar_data_df = solar_df[['Calendar Date', 'Eclipse Time', 'Gamma', 'Eclipse Magnitude']].copy()\n",
    "#sort desired year\n",
    "solar_data_df['Calendar Date']= pd.to_datetime(solar_data_df['Calendar Date'], errors = 'coerce')\n",
    "solar_eclipse_2016 = solar_data_df[solar_data_df['Calendar Date'].dt.year == 2016]\n",
    "\n",
    "#Lunar eclipse\n",
    "#sort desired columns\n",
    "lunar_data_df = lunar_df[['Calendar Date', 'Eclipse Time', 'Gamma', 'Penumbral Eclipse Duration (m)', \\\n",
    "                             'Partial Eclipse Duration (m)', 'Total Eclipse Duration (m)']].copy()\n",
    "#sort desired year\n",
    "lunar_data_df['Calendar Date']= pd.to_datetime(lunar_data_df['Calendar Date'], errors = 'coerce')\n",
    "lunar_eclipse_2016 = lunar_data_df[lunar_data_df['Calendar Date'].dt.year == 2016]"
   ]
  },
  {
   "cell_type": "code",
   "execution_count": null,
   "metadata": {},
   "outputs": [],
   "source": [
    "## Other styples of Bar Graphs if desired to change style\n",
    "\n",
    "#value_count = boston_crime_feb['Crime Date'].value_counts()\n",
    "#value_count = boston_crime_feb['Crime Date'].value_counts(sort=False)\n",
    "\n",
    "#month_values = boston_crime_feb['Crime Date'].unique()\n",
    "#boston_crime_feb_test = boston_crime_feb['Crime Day': ]\n",
    "#day = mdates.DayLocator()\n",
    "\n",
    "#lists = sorted(itertools.izip(*[month_values, value_count]))\n",
    "#new_x, new_y = zip(*sorted(zip(month_values, value_count)))\n",
    "#sns.barplot(x = month_values, y= value_count)\n",
    "\n",
    "# x= np.arange(len(month_values))\n",
    "# fig, ax = plt.subplots()\n",
    "# ax.bar(month_values, value_count)\n",
    "# ax.set_xticks(x)\n",
    "# ax.set_xticklabels(month_values)\n",
    "\n",
    "#boston_crime_feb_group = boston_crime_feb.groupby(['Crime Date'])\n",
    "#boston_crime_feb_group.count().plot(kind='bar')\n",
    "\n",
    "#boston_crime_feb['Crime Date'].value_counts().sort_index().plot(kind='bar')\n",
    "#x_axis.format_xdata = mdates.DateFormatter('%Y-%m-%d')"
   ]
  }
 ],
 "metadata": {
  "kernelspec": {
   "display_name": "Python [conda env:PythonData] *",
   "language": "python",
   "name": "conda-env-PythonData-py"
  },
  "language_info": {
   "codemirror_mode": {
    "name": "ipython",
    "version": 3
   },
   "file_extension": ".py",
   "mimetype": "text/x-python",
   "name": "python",
   "nbconvert_exporter": "python",
   "pygments_lexer": "ipython3",
   "version": "3.6.10"
  }
 },
 "nbformat": 4,
 "nbformat_minor": 4
}
